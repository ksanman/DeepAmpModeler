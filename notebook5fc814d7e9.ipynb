{
 "cells": [
  {
   "cell_type": "markdown",
   "id": "98fbfa3d",
   "metadata": {
    "papermill": {
     "duration": 0.009905,
     "end_time": "2023-05-10T15:49:15.166575",
     "exception": false,
     "start_time": "2023-05-10T15:49:15.156670",
     "status": "completed"
    },
    "tags": []
   },
   "source": [
    "Install Libraries\n",
    "---"
   ]
  },
  {
   "cell_type": "code",
   "execution_count": 1,
   "id": "f803ba29",
   "metadata": {
    "execution": {
     "iopub.execute_input": "2023-05-10T15:49:15.191384Z",
     "iopub.status.busy": "2023-05-10T15:49:15.190618Z",
     "iopub.status.idle": "2023-05-10T15:49:27.117482Z",
     "shell.execute_reply": "2023-05-10T15:49:27.116387Z"
    },
    "papermill": {
     "duration": 11.94161,
     "end_time": "2023-05-10T15:49:27.119988",
     "exception": false,
     "start_time": "2023-05-10T15:49:15.178378",
     "status": "completed"
    },
    "tags": []
   },
   "outputs": [
    {
     "name": "stdout",
     "output_type": "stream",
     "text": [
      "Requirement already satisfied: wavio in /opt/conda/lib/python3.10/site-packages (0.0.7)\r\n",
      "Requirement already satisfied: numpy>=1.19.0 in /opt/conda/lib/python3.10/site-packages (from wavio) (1.23.5)\r\n",
      "\u001b[33mWARNING: Running pip as the 'root' user can result in broken permissions and conflicting behaviour with the system package manager. It is recommended to use a virtual environment instead: https://pip.pypa.io/warnings/venv\u001b[0m\u001b[33m\r\n",
      "\u001b[0m"
     ]
    }
   ],
   "source": [
    "!pip install wavio"
   ]
  },
  {
   "cell_type": "markdown",
   "id": "73525dfa",
   "metadata": {
    "papermill": {
     "duration": 0.005154,
     "end_time": "2023-05-10T15:49:27.130770",
     "exception": false,
     "start_time": "2023-05-10T15:49:27.125616",
     "status": "completed"
    },
    "tags": []
   },
   "source": [
    "Config\n",
    "---"
   ]
  },
  {
   "cell_type": "code",
   "execution_count": 2,
   "id": "ea073c0b",
   "metadata": {
    "execution": {
     "iopub.execute_input": "2023-05-10T15:49:27.142796Z",
     "iopub.status.busy": "2023-05-10T15:49:27.142492Z",
     "iopub.status.idle": "2023-05-10T15:49:27.147432Z",
     "shell.execute_reply": "2023-05-10T15:49:27.146571Z"
    },
    "papermill": {
     "duration": 0.013285,
     "end_time": "2023-05-10T15:49:27.149350",
     "exception": false,
     "start_time": "2023-05-10T15:49:27.136065",
     "status": "completed"
    },
    "tags": []
   },
   "outputs": [],
   "source": [
    "source_file = '/kaggle/input/essex30-30s/essex30_30s_test/split_30_essex30_source.wav'\n",
    "target_file = '/kaggle/input/essex30-30s/essex30_30s_test/split_30_essex30_amp_ir.wav'\n",
    "test_size = 0.2\n",
    "lstm_hidden_size = 64\n",
    "batch_size = 16\n",
    "epochs = 20\n",
    "# Samples to look back for LSTM\n",
    "lookback = 10"
   ]
  },
  {
   "cell_type": "markdown",
   "id": "d6bde96f",
   "metadata": {
    "papermill": {
     "duration": 0.005177,
     "end_time": "2023-05-10T15:49:27.159810",
     "exception": false,
     "start_time": "2023-05-10T15:49:27.154633",
     "status": "completed"
    },
    "tags": []
   },
   "source": [
    "Functions\n",
    "---"
   ]
  },
  {
   "cell_type": "code",
   "execution_count": 3,
   "id": "93c451a7",
   "metadata": {
    "execution": {
     "iopub.execute_input": "2023-05-10T15:49:27.172020Z",
     "iopub.status.busy": "2023-05-10T15:49:27.171259Z",
     "iopub.status.idle": "2023-05-10T15:49:27.183671Z",
     "shell.execute_reply": "2023-05-10T15:49:27.182871Z"
    },
    "papermill": {
     "duration": 0.020633,
     "end_time": "2023-05-10T15:49:27.185759",
     "exception": false,
     "start_time": "2023-05-10T15:49:27.165126",
     "status": "completed"
    },
    "tags": []
   },
   "outputs": [],
   "source": [
    "import numpy as np\n",
    "import wavio\n",
    "\n",
    "def wav_to_np(filepath: str) -> np.ndarray:\n",
    "    with open(filepath, 'rb') as wave_file:\n",
    "        w = wavio.read(wave_file)\n",
    "        channels = w.data.shape[1]\n",
    "        assert channels == 1\n",
    "        samplewidth = w.sampwidth\n",
    "        assert samplewidth == 3\n",
    "        framerate = w.rate\n",
    "        assert framerate == 48000\n",
    "\n",
    "        frame_length = w.data.shape[0]\n",
    "\n",
    "        print(f'Channels: {channels}')\n",
    "        print(f'Frame Length: {frame_length}')\n",
    "        print(f'Sample Width: {samplewidth}')\n",
    "        print(f'Frame Rate {framerate}')\n",
    "\n",
    "    return w.data"
   ]
  },
  {
   "cell_type": "code",
   "execution_count": 4,
   "id": "44838f2a",
   "metadata": {
    "execution": {
     "iopub.execute_input": "2023-05-10T15:49:27.197944Z",
     "iopub.status.busy": "2023-05-10T15:49:27.197199Z",
     "iopub.status.idle": "2023-05-10T15:49:27.201889Z",
     "shell.execute_reply": "2023-05-10T15:49:27.201100Z"
    },
    "papermill": {
     "duration": 0.012695,
     "end_time": "2023-05-10T15:49:27.203788",
     "exception": false,
     "start_time": "2023-05-10T15:49:27.191093",
     "status": "completed"
    },
    "tags": []
   },
   "outputs": [],
   "source": [
    "import matplotlib.pyplot as plt\n",
    "\n",
    "def draw_file(data: np.array):\n",
    "    plt.plot(data)\n",
    "    plt.show()"
   ]
  },
  {
   "cell_type": "markdown",
   "id": "6164e249",
   "metadata": {
    "papermill": {
     "duration": 0.005307,
     "end_time": "2023-05-10T15:49:27.214475",
     "exception": false,
     "start_time": "2023-05-10T15:49:27.209168",
     "status": "completed"
    },
    "tags": []
   },
   "source": [
    "Load the data\n",
    "---"
   ]
  },
  {
   "cell_type": "code",
   "execution_count": 5,
   "id": "247d6e76",
   "metadata": {
    "execution": {
     "iopub.execute_input": "2023-05-10T15:49:27.226772Z",
     "iopub.status.busy": "2023-05-10T15:49:27.226011Z",
     "iopub.status.idle": "2023-05-10T15:49:28.252128Z",
     "shell.execute_reply": "2023-05-10T15:49:28.251235Z"
    },
    "papermill": {
     "duration": 1.034462,
     "end_time": "2023-05-10T15:49:28.254340",
     "exception": false,
     "start_time": "2023-05-10T15:49:27.219878",
     "status": "completed"
    },
    "tags": []
   },
   "outputs": [
    {
     "name": "stdout",
     "output_type": "stream",
     "text": [
      "Channels: 1\n",
      "Frame Length: 1440000\n",
      "Sample Width: 3\n",
      "Frame Rate 48000\n",
      "Channels: 1\n",
      "Frame Length: 1440000\n",
      "Sample Width: 3\n",
      "Frame Rate 48000\n",
      "(1440000, 1)\n",
      "(1440000, 1)\n"
     ]
    },
    {
     "data": {
      "image/png": "[encoded data removed]",
      "text/plain": [
       "<Figure size 640x480 with 1 Axes>"
      ]
     },
     "metadata": {},
     "output_type": "display_data"
    },
    {
     "data": {
      "image/png": "[encoded data removed]",
      "text/plain": [
       "<Figure size 640x480 with 1 Axes>"
      ]
     },
     "metadata": {},
     "output_type": "display_data"
    }
   ],
   "source": [
    "source = wav_to_np(source_file)\n",
    "target = wav_to_np(target_file)\n",
    "print(source.shape)\n",
    "print(target.shape)\n",
    "\n",
    "draw_file(source)\n",
    "draw_file(target)"
   ]
  },
  {
   "cell_type": "markdown",
   "id": "6f6610f5",
   "metadata": {
    "papermill": {
     "duration": 0.006249,
     "end_time": "2023-05-10T15:49:28.267251",
     "exception": false,
     "start_time": "2023-05-10T15:49:28.261002",
     "status": "completed"
    },
    "tags": []
   },
   "source": [
    "Preprocess Data\n",
    "---"
   ]
  },
  {
   "cell_type": "code",
   "execution_count": 6,
   "id": "7bc0ea72",
   "metadata": {
    "execution": {
     "iopub.execute_input": "2023-05-10T15:49:28.281093Z",
     "iopub.status.busy": "2023-05-10T15:49:28.280804Z",
     "iopub.status.idle": "2023-05-10T15:49:29.210348Z",
     "shell.execute_reply": "2023-05-10T15:49:29.209379Z"
    },
    "papermill": {
     "duration": 0.939137,
     "end_time": "2023-05-10T15:49:29.212651",
     "exception": false,
     "start_time": "2023-05-10T15:49:28.273514",
     "status": "completed"
    },
    "tags": []
   },
   "outputs": [
    {
     "name": "stderr",
     "output_type": "stream",
     "text": [
      "/opt/conda/lib/python3.10/site-packages/scipy/__init__.py:146: UserWarning: A NumPy version >=1.16.5 and <1.23.0 is required for this version of SciPy (detected version 1.23.5\n",
      "  warnings.warn(f\"A NumPy version >={np_minversion} and <{np_maxversion}\"\n"
     ]
    }
   ],
   "source": [
    "# Normalize between 0 and 1\n",
    "\n",
    "from sklearn.preprocessing import MinMaxScaler\n",
    "scalar = MinMaxScaler((0,1))\n",
    "source_normalized = scalar.fit_transform(source)\n",
    "target_normalized = scalar.fit_transform(target)"
   ]
  },
  {
   "cell_type": "markdown",
   "id": "f238b61e",
   "metadata": {
    "papermill": {
     "duration": 0.006346,
     "end_time": "2023-05-10T15:49:29.225810",
     "exception": false,
     "start_time": "2023-05-10T15:49:29.219464",
     "status": "completed"
    },
    "tags": []
   },
   "source": [
    "Split Dataset\n",
    "---"
   ]
  },
  {
   "cell_type": "code",
   "execution_count": 7,
   "id": "f6f511c1",
   "metadata": {
    "execution": {
     "iopub.execute_input": "2023-05-10T15:49:29.240000Z",
     "iopub.status.busy": "2023-05-10T15:49:29.239710Z",
     "iopub.status.idle": "2023-05-10T15:49:29.246286Z",
     "shell.execute_reply": "2023-05-10T15:49:29.245405Z"
    },
    "papermill": {
     "duration": 0.016383,
     "end_time": "2023-05-10T15:49:29.248638",
     "exception": false,
     "start_time": "2023-05-10T15:49:29.232255",
     "status": "completed"
    },
    "tags": []
   },
   "outputs": [
    {
     "name": "stdout",
     "output_type": "stream",
     "text": [
      "1152000 288000\n",
      "(1152000, 1) (1152000, 1)\n",
      "(288000, 1) (288000, 1)\n"
     ]
    }
   ],
   "source": [
    "total_size = len(source)\n",
    "test_size = int(total_size * test_size)\n",
    "train_size = total_size - test_size\n",
    "print(train_size, test_size)\n",
    "\n",
    "source_train = source_normalized[:train_size, :]\n",
    "target_train = target_normalized[:train_size, :]\n",
    "\n",
    "source_test = source_normalized[train_size:, :]\n",
    "target_test = source_normalized[train_size:, :]\n",
    "\n",
    "print(source_train.shape, target_train.shape)\n",
    "print(source_test.shape, target_test.shape)"
   ]
  },
  {
   "cell_type": "markdown",
   "id": "1efc3766",
   "metadata": {
    "papermill": {
     "duration": 0.006349,
     "end_time": "2023-05-10T15:49:29.261454",
     "exception": false,
     "start_time": "2023-05-10T15:49:29.255105",
     "status": "completed"
    },
    "tags": []
   },
   "source": [
    "Create the RNN dataset\n",
    "---\n",
    "Dataset will contain the previous 25 samples as 'lookback'\n"
   ]
  },
  {
   "cell_type": "code",
   "execution_count": 8,
   "id": "d2c21d66",
   "metadata": {
    "execution": {
     "iopub.execute_input": "2023-05-10T15:49:29.276844Z",
     "iopub.status.busy": "2023-05-10T15:49:29.275452Z",
     "iopub.status.idle": "2023-05-10T15:49:29.281637Z",
     "shell.execute_reply": "2023-05-10T15:49:29.280804Z"
    },
    "papermill": {
     "duration": 0.01556,
     "end_time": "2023-05-10T15:49:29.283557",
     "exception": false,
     "start_time": "2023-05-10T15:49:29.267997",
     "status": "completed"
    },
    "tags": []
   },
   "outputs": [],
   "source": [
    "def create_dataset(source: np.ndarray, target: np.ndarray, lookback = 1):\n",
    "    data_x, data_y = [], []\n",
    "    for i in range(len(source) - lookback - 1):\n",
    "        a = source[i:(i + lookback), 0]\n",
    "        data_x.append(a)\n",
    "        data_y.append(target[i + lookback, 0])\n",
    "    return np.array(data_x), np.array(data_y)"
   ]
  },
  {
   "cell_type": "code",
   "execution_count": 9,
   "id": "b30341dd",
   "metadata": {
    "execution": {
     "iopub.execute_input": "2023-05-10T15:49:29.298333Z",
     "iopub.status.busy": "2023-05-10T15:49:29.297532Z",
     "iopub.status.idle": "2023-05-10T15:49:31.700978Z",
     "shell.execute_reply": "2023-05-10T15:49:31.700025Z"
    },
    "papermill": {
     "duration": 2.413198,
     "end_time": "2023-05-10T15:49:31.703395",
     "exception": false,
     "start_time": "2023-05-10T15:49:29.290197",
     "status": "completed"
    },
    "tags": []
   },
   "outputs": [],
   "source": [
    "(X_train, y_train) = create_dataset(source_train, target_train, lookback)\n",
    "(X_test, y_test) = create_dataset(source_test, target_test, lookback)"
   ]
  },
  {
   "cell_type": "code",
   "execution_count": 10,
   "id": "e5d86538",
   "metadata": {
    "execution": {
     "iopub.execute_input": "2023-05-10T15:49:31.720107Z",
     "iopub.status.busy": "2023-05-10T15:49:31.718441Z",
     "iopub.status.idle": "2023-05-10T15:49:31.725507Z",
     "shell.execute_reply": "2023-05-10T15:49:31.724499Z"
    },
    "papermill": {
     "duration": 0.017592,
     "end_time": "2023-05-10T15:49:31.728123",
     "exception": false,
     "start_time": "2023-05-10T15:49:31.710531",
     "status": "completed"
    },
    "tags": []
   },
   "outputs": [
    {
     "name": "stdout",
     "output_type": "stream",
     "text": [
      "(1151989, 1, 10) (1151989,)\n",
      "(287989, 1, 10) (287989,)\n"
     ]
    }
   ],
   "source": [
    "# Reshape the data\n",
    "X_train = np.reshape(X_train, (X_train.shape[0],1, X_train.shape[1]))\n",
    "X_test = np.reshape(X_test, (X_test.shape[0], 1, X_test.shape[1]))\n",
    "\n",
    "print(X_train.shape, y_train.shape)\n",
    "print(X_test.shape, y_test.shape)"
   ]
  },
  {
   "cell_type": "markdown",
   "id": "5e729029",
   "metadata": {
    "papermill": {
     "duration": 0.006596,
     "end_time": "2023-05-10T15:49:31.741511",
     "exception": false,
     "start_time": "2023-05-10T15:49:31.734915",
     "status": "completed"
    },
    "tags": []
   },
   "source": [
    "Create the Model\n",
    "---"
   ]
  },
  {
   "cell_type": "code",
   "execution_count": 11,
   "id": "743ebdef",
   "metadata": {
    "execution": {
     "iopub.execute_input": "2023-05-10T15:49:31.756366Z",
     "iopub.status.busy": "2023-05-10T15:49:31.755882Z",
     "iopub.status.idle": "2023-05-10T15:49:40.966580Z",
     "shell.execute_reply": "2023-05-10T15:49:40.965497Z"
    },
    "papermill": {
     "duration": 9.222715,
     "end_time": "2023-05-10T15:49:40.971087",
     "exception": false,
     "start_time": "2023-05-10T15:49:31.748372",
     "status": "completed"
    },
    "tags": []
   },
   "outputs": [
    {
     "name": "stdout",
     "output_type": "stream",
     "text": [
      "Model: \"sequential\"\n",
      "_________________________________________________________________\n",
      " Layer (type)                Output Shape              Param #   \n",
      "=================================================================\n",
      " lstm (LSTM)                 (None, 64)                19200     \n",
      "                                                                 \n",
      " dense (Dense)               (None, 1)                 65        \n",
      "                                                                 \n",
      "=================================================================\n",
      "Total params: 19,265\n",
      "Trainable params: 19,265\n",
      "Non-trainable params: 0\n",
      "_________________________________________________________________\n"
     ]
    }
   ],
   "source": [
    "import tensorflow as tf\n",
    "from tensorflow.keras.models import Sequential\n",
    "from tensorflow.keras.layers import LSTM,Dense\n",
    "\n",
    "tf.random.set_seed(3)\n",
    "\n",
    "#Create a Keras Model\n",
    "model = Sequential()\n",
    "#Add LSTM\n",
    "model.add(LSTM(lstm_hidden_size, input_shape=(1,lookback)))\n",
    "model.add(Dense(1))\n",
    "\n",
    "#Compile with Adam Optimizer. Optimize for minimum mean square error\n",
    "model.compile(loss=\"mean_squared_error\",\n",
    "                 optimizer=\"adam\",\n",
    "                 metrics=[\"mse\"])\n",
    "\n",
    "#Print model summary\n",
    "model.summary()"
   ]
  },
  {
   "cell_type": "markdown",
   "id": "993ed1b4",
   "metadata": {
    "papermill": {
     "duration": 0.007662,
     "end_time": "2023-05-10T15:49:40.986814",
     "exception": false,
     "start_time": "2023-05-10T15:49:40.979152",
     "status": "completed"
    },
    "tags": []
   },
   "source": [
    "Train!\n",
    "---"
   ]
  },
  {
   "cell_type": "code",
   "execution_count": 12,
   "id": "efedad0d",
   "metadata": {
    "execution": {
     "iopub.execute_input": "2023-05-10T15:49:41.003668Z",
     "iopub.status.busy": "2023-05-10T15:49:41.003379Z",
     "iopub.status.idle": "2023-05-10T17:30:05.294038Z",
     "shell.execute_reply": "2023-05-10T17:30:05.293105Z"
    },
    "papermill": {
     "duration": 6024.30156,
     "end_time": "2023-05-10T17:30:05.296093",
     "exception": false,
     "start_time": "2023-05-10T15:49:40.994533",
     "status": "completed"
    },
    "tags": []
   },
   "outputs": [
    {
     "name": "stdout",
     "output_type": "stream",
     "text": [
      "Epoch 1/20\n",
      "72000/72000 [==============================] - 294s 4ms/step - loss: 0.0058 - mse: 0.0058\n",
      "Epoch 2/20\n",
      "72000/72000 [==============================] - 294s 4ms/step - loss: 0.0056 - mse: 0.0056\n",
      "Epoch 3/20\n",
      "72000/72000 [==============================] - 296s 4ms/step - loss: 0.0056 - mse: 0.0056\n",
      "Epoch 4/20\n",
      "72000/72000 [==============================] - 296s 4ms/step - loss: 0.0055 - mse: 0.0055\n",
      "Epoch 5/20\n",
      "72000/72000 [==============================] - 296s 4ms/step - loss: 0.0055 - mse: 0.0055\n",
      "Epoch 6/20\n",
      "72000/72000 [==============================] - 297s 4ms/step - loss: 0.0054 - mse: 0.0054\n",
      "Epoch 7/20\n",
      "72000/72000 [==============================] - 302s 4ms/step - loss: 0.0054 - mse: 0.0054\n",
      "Epoch 8/20\n",
      "72000/72000 [==============================] - 303s 4ms/step - loss: 0.0054 - mse: 0.0054\n",
      "Epoch 9/20\n",
      "72000/72000 [==============================] - 300s 4ms/step - loss: 0.0054 - mse: 0.0054\n",
      "Epoch 10/20\n",
      "72000/72000 [==============================] - 296s 4ms/step - loss: 0.0053 - mse: 0.0053\n",
      "Epoch 11/20\n",
      "72000/72000 [==============================] - 300s 4ms/step - loss: 0.0053 - mse: 0.0053\n",
      "Epoch 12/20\n",
      "72000/72000 [==============================] - 304s 4ms/step - loss: 0.0053 - mse: 0.0053\n",
      "Epoch 13/20\n",
      "72000/72000 [==============================] - 309s 4ms/step - loss: 0.0053 - mse: 0.0053\n",
      "Epoch 14/20\n",
      "72000/72000 [==============================] - 303s 4ms/step - loss: 0.0053 - mse: 0.0053\n",
      "Epoch 15/20\n",
      "72000/72000 [==============================] - 306s 4ms/step - loss: 0.0053 - mse: 0.0053\n",
      "Epoch 16/20\n",
      "72000/72000 [==============================] - 305s 4ms/step - loss: 0.0053 - mse: 0.0053\n",
      "Epoch 17/20\n",
      "72000/72000 [==============================] - 304s 4ms/step - loss: 0.0052 - mse: 0.0052\n",
      "Epoch 18/20\n",
      "72000/72000 [==============================] - 306s 4ms/step - loss: 0.0052 - mse: 0.0052\n",
      "Epoch 19/20\n",
      "72000/72000 [==============================] - 303s 4ms/step - loss: 0.0052 - mse: 0.0052\n",
      "Epoch 20/20\n",
      "72000/72000 [==============================] - 301s 4ms/step - loss: 0.0052 - mse: 0.0052\n"
     ]
    },
    {
     "data": {
      "image/png": "[encoded data removed]",
      "text/plain": [
       "<Figure size 640x480 with 1 Axes>"
      ]
     },
     "metadata": {},
     "output_type": "display_data"
    }
   ],
   "source": [
    "history = model.fit(X_train, y_train, epochs=epochs, batch_size=batch_size, verbose=1)\n",
    "loss = history.history['loss']\n",
    "mse = history.history['mse']\n",
    "plt.plot(loss, label='loss')\n",
    "plt.plot(mse, label='mse')\n",
    "plt.legend()\n",
    "plt.show()"
   ]
  },
  {
   "cell_type": "markdown",
   "id": "59eaa248",
   "metadata": {
    "papermill": {
     "duration": 9.162036,
     "end_time": "2023-05-10T17:30:23.411365",
     "exception": false,
     "start_time": "2023-05-10T17:30:14.249329",
     "status": "completed"
    },
    "tags": []
   },
   "source": [
    "Test\n",
    "---"
   ]
  },
  {
   "cell_type": "code",
   "execution_count": 13,
   "id": "ab3fb152",
   "metadata": {
    "execution": {
     "iopub.execute_input": "2023-05-10T17:30:42.084156Z",
     "iopub.status.busy": "2023-05-10T17:30:42.083795Z",
     "iopub.status.idle": "2023-05-10T17:31:48.941403Z",
     "shell.execute_reply": "2023-05-10T17:31:48.940445Z"
    },
    "papermill": {
     "duration": 75.962041,
     "end_time": "2023-05-10T17:31:48.943721",
     "exception": false,
     "start_time": "2023-05-10T17:30:32.981680",
     "status": "completed"
    },
    "tags": []
   },
   "outputs": [
    {
     "name": "stdout",
     "output_type": "stream",
     "text": [
      "9000/9000 [==============================] - 23s 2ms/step - loss: 0.0223 - mse: 0.0223\n",
      "9000/9000 [==============================] - 18s 2ms/step\n"
     ]
    }
   ],
   "source": [
    "#Evaluate the model\n",
    "result = model.evaluate(X_test, y_test, verbose=1)\n",
    "\n",
    "#Predict on the test dataset\n",
    "predictions = model.predict(X_test)\n",
    "\n",
    "#Inverse the scaling to view results\n",
    "predictions = scalar.inverse_transform(predictions)"
   ]
  },
  {
   "cell_type": "markdown",
   "id": "ffe55d44",
   "metadata": {
    "papermill": {
     "duration": 9.488564,
     "end_time": "2023-05-10T17:32:08.128154",
     "exception": false,
     "start_time": "2023-05-10T17:31:58.639590",
     "status": "completed"
    },
    "tags": []
   },
   "source": [
    "Visualize Results\n",
    "---"
   ]
  },
  {
   "cell_type": "code",
   "execution_count": 14,
   "id": "eb1bfd88",
   "metadata": {
    "execution": {
     "iopub.execute_input": "2023-05-10T17:32:26.807386Z",
     "iopub.status.busy": "2023-05-10T17:32:26.807021Z",
     "iopub.status.idle": "2023-05-10T17:32:27.348755Z",
     "shell.execute_reply": "2023-05-10T17:32:27.347864Z"
    },
    "papermill": {
     "duration": 9.636755,
     "end_time": "2023-05-10T17:32:27.350709",
     "exception": false,
     "start_time": "2023-05-10T17:32:17.713954",
     "status": "completed"
    },
    "tags": []
   },
   "outputs": [
    {
     "data": {
      "image/png": "[encoded data removed]",
      "text/plain": [
       "<Figure size 640x480 with 1 Axes>"
      ]
     },
     "metadata": {},
     "output_type": "display_data"
    }
   ],
   "source": [
    "#TODO The data is offset by the lookback amount samples, need to figure that out.\n",
    "y_target = target[train_size + lookback:]\n",
    "plt.plot(y_target, label='Target')\n",
    "plt.plot(predictions, label='Prediction')\n",
    "plt.legend()\n",
    "plt.show()"
   ]
  }
 ],
 "metadata": {
  "kernelspec": {
   "display_name": "Python 3",
   "language": "python",
   "name": "python3"
  },
  "language_info": {
   "codemirror_mode": {
    "name": "ipython",
    "version": 3
   },
   "file_extension": ".py",
   "mimetype": "text/x-python",
   "name": "python",
   "nbconvert_exporter": "python",
   "pygments_lexer": "ipython3",
   "version": "3.10.10"
  },
  "papermill": {
   "default_parameters": {},
   "duration": 6215.84289,
   "end_time": "2023-05-10T17:32:40.556151",
   "environment_variables": {},
   "exception": null,
   "input_path": "__notebook__.ipynb",
   "output_path": "__notebook__.ipynb",
   "parameters": {},
   "start_time": "2023-05-10T15:49:04.713261",
   "version": "2.4.0"
  }
 },
 "nbformat": 4,
 "nbformat_minor": 5
}
